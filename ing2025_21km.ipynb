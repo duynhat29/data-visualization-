{
  "nbformat": 4,
  "nbformat_minor": 0,
  "metadata": {
    "colab": {
      "provenance": [],
      "authorship_tag": "ABX9TyOt3lhktTii1wL+OjbWH4Cy",
      "include_colab_link": true
    },
    "kernelspec": {
      "name": "python3",
      "display_name": "Python 3"
    },
    "language_info": {
      "name": "python"
    }
  },
  "cells": [
    {
      "cell_type": "markdown",
      "metadata": {
        "id": "view-in-github",
        "colab_type": "text"
      },
      "source": [
        "<a href=\"https://colab.research.google.com/github/duynhat29/data-visualization-/blob/main/ing2025_21km.ipynb\" target=\"_parent\"><img src=\"https://colab.research.google.com/assets/colab-badge.svg\" alt=\"Open In Colab\"/></a>"
      ]
    },
    {
      "cell_type": "code",
      "execution_count": 1,
      "metadata": {
        "colab": {
          "base_uri": "https://localhost:8080/",
          "height": 73
        },
        "id": "2YwRoGne-M-p",
        "outputId": "6dda2b5c-f4a1-4a25-a290-57fae8e8d874"
      },
      "outputs": [
        {
          "output_type": "display_data",
          "data": {
            "text/plain": [
              "<IPython.core.display.HTML object>"
            ],
            "text/html": [
              "\n",
              "     <input type=\"file\" id=\"files-5b508015-5e9f-4207-9b15-7b6bd88160c5\" name=\"files[]\" multiple disabled\n",
              "        style=\"border:none\" />\n",
              "     <output id=\"result-5b508015-5e9f-4207-9b15-7b6bd88160c5\">\n",
              "      Upload widget is only available when the cell has been executed in the\n",
              "      current browser session. Please rerun this cell to enable.\n",
              "      </output>\n",
              "      <script>// Copyright 2017 Google LLC\n",
              "//\n",
              "// Licensed under the Apache License, Version 2.0 (the \"License\");\n",
              "// you may not use this file except in compliance with the License.\n",
              "// You may obtain a copy of the License at\n",
              "//\n",
              "//      http://www.apache.org/licenses/LICENSE-2.0\n",
              "//\n",
              "// Unless required by applicable law or agreed to in writing, software\n",
              "// distributed under the License is distributed on an \"AS IS\" BASIS,\n",
              "// WITHOUT WARRANTIES OR CONDITIONS OF ANY KIND, either express or implied.\n",
              "// See the License for the specific language governing permissions and\n",
              "// limitations under the License.\n",
              "\n",
              "/**\n",
              " * @fileoverview Helpers for google.colab Python module.\n",
              " */\n",
              "(function(scope) {\n",
              "function span(text, styleAttributes = {}) {\n",
              "  const element = document.createElement('span');\n",
              "  element.textContent = text;\n",
              "  for (const key of Object.keys(styleAttributes)) {\n",
              "    element.style[key] = styleAttributes[key];\n",
              "  }\n",
              "  return element;\n",
              "}\n",
              "\n",
              "// Max number of bytes which will be uploaded at a time.\n",
              "const MAX_PAYLOAD_SIZE = 100 * 1024;\n",
              "\n",
              "function _uploadFiles(inputId, outputId) {\n",
              "  const steps = uploadFilesStep(inputId, outputId);\n",
              "  const outputElement = document.getElementById(outputId);\n",
              "  // Cache steps on the outputElement to make it available for the next call\n",
              "  // to uploadFilesContinue from Python.\n",
              "  outputElement.steps = steps;\n",
              "\n",
              "  return _uploadFilesContinue(outputId);\n",
              "}\n",
              "\n",
              "// This is roughly an async generator (not supported in the browser yet),\n",
              "// where there are multiple asynchronous steps and the Python side is going\n",
              "// to poll for completion of each step.\n",
              "// This uses a Promise to block the python side on completion of each step,\n",
              "// then passes the result of the previous step as the input to the next step.\n",
              "function _uploadFilesContinue(outputId) {\n",
              "  const outputElement = document.getElementById(outputId);\n",
              "  const steps = outputElement.steps;\n",
              "\n",
              "  const next = steps.next(outputElement.lastPromiseValue);\n",
              "  return Promise.resolve(next.value.promise).then((value) => {\n",
              "    // Cache the last promise value to make it available to the next\n",
              "    // step of the generator.\n",
              "    outputElement.lastPromiseValue = value;\n",
              "    return next.value.response;\n",
              "  });\n",
              "}\n",
              "\n",
              "/**\n",
              " * Generator function which is called between each async step of the upload\n",
              " * process.\n",
              " * @param {string} inputId Element ID of the input file picker element.\n",
              " * @param {string} outputId Element ID of the output display.\n",
              " * @return {!Iterable<!Object>} Iterable of next steps.\n",
              " */\n",
              "function* uploadFilesStep(inputId, outputId) {\n",
              "  const inputElement = document.getElementById(inputId);\n",
              "  inputElement.disabled = false;\n",
              "\n",
              "  const outputElement = document.getElementById(outputId);\n",
              "  outputElement.innerHTML = '';\n",
              "\n",
              "  const pickedPromise = new Promise((resolve) => {\n",
              "    inputElement.addEventListener('change', (e) => {\n",
              "      resolve(e.target.files);\n",
              "    });\n",
              "  });\n",
              "\n",
              "  const cancel = document.createElement('button');\n",
              "  inputElement.parentElement.appendChild(cancel);\n",
              "  cancel.textContent = 'Cancel upload';\n",
              "  const cancelPromise = new Promise((resolve) => {\n",
              "    cancel.onclick = () => {\n",
              "      resolve(null);\n",
              "    };\n",
              "  });\n",
              "\n",
              "  // Wait for the user to pick the files.\n",
              "  const files = yield {\n",
              "    promise: Promise.race([pickedPromise, cancelPromise]),\n",
              "    response: {\n",
              "      action: 'starting',\n",
              "    }\n",
              "  };\n",
              "\n",
              "  cancel.remove();\n",
              "\n",
              "  // Disable the input element since further picks are not allowed.\n",
              "  inputElement.disabled = true;\n",
              "\n",
              "  if (!files) {\n",
              "    return {\n",
              "      response: {\n",
              "        action: 'complete',\n",
              "      }\n",
              "    };\n",
              "  }\n",
              "\n",
              "  for (const file of files) {\n",
              "    const li = document.createElement('li');\n",
              "    li.append(span(file.name, {fontWeight: 'bold'}));\n",
              "    li.append(span(\n",
              "        `(${file.type || 'n/a'}) - ${file.size} bytes, ` +\n",
              "        `last modified: ${\n",
              "            file.lastModifiedDate ? file.lastModifiedDate.toLocaleDateString() :\n",
              "                                    'n/a'} - `));\n",
              "    const percent = span('0% done');\n",
              "    li.appendChild(percent);\n",
              "\n",
              "    outputElement.appendChild(li);\n",
              "\n",
              "    const fileDataPromise = new Promise((resolve) => {\n",
              "      const reader = new FileReader();\n",
              "      reader.onload = (e) => {\n",
              "        resolve(e.target.result);\n",
              "      };\n",
              "      reader.readAsArrayBuffer(file);\n",
              "    });\n",
              "    // Wait for the data to be ready.\n",
              "    let fileData = yield {\n",
              "      promise: fileDataPromise,\n",
              "      response: {\n",
              "        action: 'continue',\n",
              "      }\n",
              "    };\n",
              "\n",
              "    // Use a chunked sending to avoid message size limits. See b/62115660.\n",
              "    let position = 0;\n",
              "    do {\n",
              "      const length = Math.min(fileData.byteLength - position, MAX_PAYLOAD_SIZE);\n",
              "      const chunk = new Uint8Array(fileData, position, length);\n",
              "      position += length;\n",
              "\n",
              "      const base64 = btoa(String.fromCharCode.apply(null, chunk));\n",
              "      yield {\n",
              "        response: {\n",
              "          action: 'append',\n",
              "          file: file.name,\n",
              "          data: base64,\n",
              "        },\n",
              "      };\n",
              "\n",
              "      let percentDone = fileData.byteLength === 0 ?\n",
              "          100 :\n",
              "          Math.round((position / fileData.byteLength) * 100);\n",
              "      percent.textContent = `${percentDone}% done`;\n",
              "\n",
              "    } while (position < fileData.byteLength);\n",
              "  }\n",
              "\n",
              "  // All done.\n",
              "  yield {\n",
              "    response: {\n",
              "      action: 'complete',\n",
              "    }\n",
              "  };\n",
              "}\n",
              "\n",
              "scope.google = scope.google || {};\n",
              "scope.google.colab = scope.google.colab || {};\n",
              "scope.google.colab._files = {\n",
              "  _uploadFiles,\n",
              "  _uploadFilesContinue,\n",
              "};\n",
              "})(self);\n",
              "</script> "
            ]
          },
          "metadata": {}
        },
        {
          "output_type": "stream",
          "name": "stdout",
          "text": [
            "Saving ing25.xlsx to ing25.xlsx\n"
          ]
        }
      ],
      "source": [
        "from google.colab import files\n",
        "uploaded = files.upload()"
      ]
    },
    {
      "cell_type": "code",
      "source": [
        "import pandas as pd\n",
        "\n",
     
        "df = pd.read_excel('ing25.xlsx')\n",
        "print(df.head())"
      ],
      "metadata": {
        "colab": {
          "base_uri": "https://localhost:8080/",
          "height": 0
        },
        "id": "5ehscvcE-Uak",
        "outputId": "047e84bc-85bd-4af3-b432-857cc5891423"
      },
      "execution_count": 2,
      "outputs": [
        {
          "output_type": "stream",
          "name": "stdout",
          "text": [
            "  Place   Bib               Name  NAT               Club/Company  \\\n",
            "0     1  5995     BENJAMIN POLIN  FRA                        NaN   \n",
            "1     2  6994         SIMON BONG  GER  LT Haspa Marathon Hamburg   \n",
            "2     3  6492          JOAO CRUZ  POR                     Amazon   \n",
            "3     4  6927       THOMAS IARIA  FRA             ENCEVO Loisirs   \n",
            "4     5  5986  SÉBASTIEN LAURIER  FRA                PHAR LONGWY   \n",
            "\n",
            "               Group  M/W.Pl   AG. Pl. Gross time  Net time    GAP  \n",
            "0                NaN  M (1.)  M30 (1.)   01:06:01  01:05:56      -  \n",
            "1                NaN  M (2.)  M20 (1.)   01:09:57  01:09:52  +3:56  \n",
            "2  Amazon EU S.à.r.l  M (3.)  M30 (2.)   01:13:12  01:13:08  +7:12  \n",
            "3     ENCEVO Loisirs  M (4.)  M35 (1.)   01:13:32  01:13:28  +7:32  \n",
            "4     ING Guest 2025  M (5.)  M40 (1.)   01:13:37  01:13:33  +7:37  \n"
          ]
        }
      ]
    },
    {
      "cell_type": "code",
      "source": [],
      "metadata": {
        "id": "jM7OpOED_Zr6"
      },
      "execution_count": null,
      "outputs": []
    },
    {
      "cell_type": "code",
      "source": [
        "df['Gender'] = df['M/W.Pl'].str[0]  # 'M' or 'W'\n",
        "print(df['Gender'].value_counts())"
      ],
      "metadata": {
        "colab": {
          "base_uri": "https://localhost:8080/",
          "height": 0
        },
        "id": "F0VK6BYH-YFg",
        "outputId": "fe66fbd2-9b5f-40c0-8ed0-6683116164f4"
      },
      "execution_count": 3,
      "outputs": [
        {
          "output_type": "stream",
          "name": "stdout",
          "text": [
            "Gender\n",
            "M    5729\n",
            "W    2914\n",
            "Name: count, dtype: int64\n"
          ]
        }
      ]
    },
    {
      "cell_type": "code",
      "source": [
        "import pandas as pd\n",
        "\n",
     
        "dns = df[df['Net time'].str.upper() == 'DNS']\n",
        "dnf = df[df['Net time'].str.upper() == 'DNF']\n",
        "\n",
        "print(f\"Number of DNS (Did Not Start): {len(dns)}\")\n",
        "print(f\"Number of DNF (Did Not Finish): {len(dnf)}\")"
      ],
      "metadata": {
        "colab": {
          "base_uri": "https://localhost:8080/",
          "height": 0
        },
        "id": "KmcV0lT0-Ulz",
        "outputId": "7e79f3f6-1b58-4b2e-fcc5-077b7e039740"
      },
      "execution_count": 6,
      "outputs": [
        {
          "output_type": "stream",
          "name": "stdout",
          "text": [
            "Number of DNS (Did Not Start): 10\n",
            "Number of DNF (Did Not Finish): 146\n"
          ]
        }
      ]
    },
    {
      "cell_type": "code",
      "source": [
        "gender_counts = df['Gender'].value_counts()\n",
        "print(\"Gender distribution:\")\n",
        "print(gender_counts)\n",
        "\n"
      ],
      "metadata": {
        "colab": {
          "base_uri": "https://localhost:8080/",
          "height": 0
        },
        "id": "eAg-NEwR_ak-",
        "outputId": "0780236e-b4fc-4d54-ef51-30652560d096"
      },
      "execution_count": 9,
      "outputs": [
        {
          "output_type": "stream",
          "name": "stdout",
          "text": [
            "Gender distribution:\n",
            "Gender\n",
            "M    5729\n",
            "W    2914\n",
            "Name: count, dtype: int64\n"
          ]
        }
      ]
    },
    {
      "cell_type": "code",
      "source": [
        "dns = df[df['Net time'].str.upper() == 'DNS']\n",
        "dnf = df[df['Net time'].str.upper() == 'DNF']\n",
        "print(f\"DNS (Did Not Start): {len(dns)}\")\n",
        "print(f\"DNF (Did Not Finish): {len(dnf)}\")\n"
      ],
      "metadata": {
        "colab": {
          "base_uri": "https://localhost:8080/",
          "height": 0
        },
        "id": "99HTkWiZ_gv5",
        "outputId": "18fb6d11-7c18-4d84-b942-bcf0a202399f"
      },
      "execution_count": 10,
      "outputs": [
        {
          "output_type": "stream",
          "name": "stdout",
          "text": [
            "DNS (Did Not Start): 10\n",
            "DNF (Did Not Finish): 146\n"
          ]
        }
      ]
    },
    {
      "cell_type": "code",
      "source": [
        "nat_counts_sorted = df['NAT'].value_counts().sort_index()\n",
        "print(nat_counts_sorted)\n"
      ],
      "metadata": {
        "colab": {
          "base_uri": "https://localhost:8080/",
          "height": 0
        },
        "id": "v3Sg-vVk_j4D",
        "outputId": "1522c298-63c6-41fc-dcec-1e01989f3d07"
      },
      "execution_count": 14,
      "outputs": [
        {
          "output_type": "stream",
          "name": "stdout",
          "text": [
            "NAT\n",
            "ALB     8\n",
            "ALG     4\n",
            "ARG     7\n",
            "ARM     2\n",
            "AUS    12\n",
            "       ..\n",
            "USA    57\n",
            "VEN    10\n",
            "VIE     3\n",
            "XKX     2\n",
            "ZIM     1\n",
            "Name: count, Length: 103, dtype: int64\n"
          ]
        }
      ]
    },
    {
      "cell_type": "code",
      "source": [
        "import pandas as pd\n",
        "\n",
        "# Clean and normalize 'Nettime' column\n",
        "df['Nettime_clean'] = df['Net time'].astype(str).str.upper().fillna('')\n",
        "\n",
        "# Keep only Finished and DNF (exclude DNS and blanks)\n",
        "filtered_df = df[~df['Nettime_clean'].isin(['DNS', '', '-', 'NAN'])]\n",
        "\n",
        "# Count by nationality\n",
        "runners_by_nat = filtered_df['NAT'].value_counts().sort_values(ascending=False)\n",
        "\n",
        "# Display the result\n",
        "print(runners_by_nat)\n",
        "\n"
      ],
      "metadata": {
        "colab": {
          "base_uri": "https://localhost:8080/",
          "height": 0
        },
        "id": "FT0bntin_kAA",
        "outputId": "dd084951-ec15-47ff-d3fa-31da77453195"
      },
      "execution_count": 15,
      "outputs": [
        {
          "output_type": "stream",
          "name": "stdout",
          "text": [
            "NAT\n",
            "LUX    2611\n",
            "FRA    2150\n",
            "GER    1024\n",
            "BEL     773\n",
            "ITA     321\n",
            "       ... \n",
            "ZIM       1\n",
            "MKD       1\n",
            "KEN       1\n",
            "SYR       1\n",
            "CRC       1\n",
            "Name: count, Length: 103, dtype: int64\n"
          ]
        }
      ]
    },
    {
      "cell_type": "code",
      "source": [
        "import pandas as pd\n",
        "\n",
        "# Step 1: Your data (IOC codes and counts)\n",
        "runners_by_nat = pd.Series({\n",
        "    'LUX': 2611, 'FRA': 2150, 'GER': 1024, 'BEL': 773, 'ITA': 321, 'ESP': 245,\n",
        "    'POR': 197, 'GBR': 128, 'NED': 115, 'IRL': 101, 'POL': 68, 'USA': 57,\n",
        "    'IND': 49, 'CHN': 48, 'BRA': 44, 'GRE': 41, 'ROU': 38, 'SUI': 37,\n",
        "    'RSA': 29, 'FIN': 29, 'DEN': 28, 'MEX': 28, 'HUN': 25, 'AUT': 22,\n",
        "    'RUS': 22, 'MAR': 19, 'SVK': 18, 'UKR': 17, 'BUL': 17, 'SWE': 17,\n",
        "    'COL': 16, 'CZE': 16, 'NOR': 15, 'PHI': 15, 'LTU': 13, 'CAN': 12,\n",
        "    'AUS': 12, 'TUR': 12, 'CRO': 11, 'MRI': 10, 'VEN': 10, 'LBN': 9,\n",
        "    'ALB': 8, 'JPN': 8, 'SLO': 8, 'MDA': 7, 'ARG': 7, 'PER': 6,\n",
        "    'LAT': 5, 'ISL': 5, 'MNE': 5, 'ECU': 5, 'CMR': 5, 'CHI': 4,\n",
        "    'TPE': 4, 'IRI': 4, 'HKG': 4, 'ALG': 4, 'SDN': 3, 'PAK': 3,\n",
        "    'INA': 3, 'VIE': 3, 'MLT': 3, 'MAS': 3, 'TUN': 3, 'NGR': 3,\n",
        "    'GEO': 3, 'ERI': 2, 'KAZ': 2, 'PAN': 2, 'BIH': 2, 'AZE': 2,\n",
        "    'CIV': 2, 'SGP': 2, 'SRB': 2, 'XKX': 2, 'EST': 2, 'ARM': 2,\n",
        "    'CUB': 1, 'JOR': 1, 'KOR': 1, 'BLR': 1, 'CGO': 1, 'PAR': 1,\n",
        "    'BHU': 1, 'SEN': 1, 'BIZ': 1, 'JAM': 1, 'MGL': 1, 'DOM': 1,\n",
        "    'CYP': 1, 'TOG': 1, 'URU': 1, 'EGY': 1, 'GUI': 1, 'RWA': 1,\n",
        "    'GUA': 1, 'HON': 1, 'ZIM': 1, 'MKD': 1, 'KEN': 1, 'SYR': 1, 'CRC': 1\n",
        "}, name='Count')\n",
        "\n",
        "# Step 2: IOC to full country name (partial mapping shown — extend as needed)\n",
        "ioc_to_name = {\n",
        "    'LUX': 'Luxembourg', 'FRA': 'France', 'GER': 'Germany', 'BEL': 'Belgium', 'ITA': 'Italy',\n",
        "    'ESP': 'Spain', 'POR': 'Portugal', 'GBR': 'United Kingdom', 'NED': 'Netherlands', 'IRL': 'Ireland',\n",
        "    'POL': 'Poland', 'USA': 'United States', 'IND': 'India', 'CHN': 'China', 'BRA': 'Brazil',\n",
        "    'GRE': 'Greece', 'ROU': 'Romania', 'SUI': 'Switzerland', 'RSA': 'South Africa', 'FIN': 'Finland',\n",
        "    'DEN': 'Denmark', 'MEX': 'Mexico', 'HUN': 'Hungary', 'AUT': 'Austria', 'RUS': 'Russia',\n",
        "    'MAR': 'Morocco', 'SVK': 'Slovakia', 'UKR': 'Ukraine', 'BUL': 'Bulgaria', 'SWE': 'Sweden',\n",
        "    'COL': 'Colombia', 'CZE': 'Czech Republic', 'NOR': 'Norway', 'PHI': 'Philippines', 'LTU': 'Lithuania',\n",
        "    'CAN': 'Canada', 'AUS': 'Australia', 'TUR': 'Turkey', 'CRO': 'Croatia', 'MRI': 'Mauritius',\n",
        "    'VEN': 'Venezuela', 'LBN': 'Lebanon', 'ALB': 'Albania', 'JPN': 'Japan', 'SLO': 'Slovenia',\n",
        "    'MDA': 'Moldova', 'ARG': 'Argentina', 'PER': 'Peru', 'LAT': 'Latvia', 'ISL': 'Iceland',\n",
        "    'MNE': 'Montenegro', 'ECU': 'Ecuador', 'CMR': 'Cameroon', 'CHI': 'Chile', 'TPE': 'Chinese Taipei',\n",
        "    'IRI': 'Iran', 'HKG': 'Hong Kong', 'ALG': 'Algeria', 'SDN': 'Sudan', 'PAK': 'Pakistan',\n",
        "    'INA': 'Indonesia', 'VIE': 'Vietnam', 'MLT': 'Malta', 'MAS': 'Malaysia', 'TUN': 'Tunisia',\n",
        "    'NGR': 'Nigeria', 'GEO': 'Georgia', 'ERI': 'Eritrea', 'KAZ': 'Kazakhstan', 'PAN': 'Panama',\n",
        "    'BIH': 'Bosnia and Herzegovina', 'AZE': 'Azerbaijan', 'CIV': 'Ivory Coast', 'SGP': 'Singapore',\n",
        "    'SRB': 'Serbia', 'XKX': 'Kosovo', 'EST': 'Estonia', 'ARM': 'Armenia', 'CUB': 'Cuba',\n",
        "    'JOR': 'Jordan', 'KOR': 'South Korea', 'BLR': 'Belarus', 'CGO': 'Congo', 'PAR': 'Paraguay',\n",
        "    'BHU': 'Bhutan', 'SEN': 'Senegal', 'BIZ': 'Belize', 'JAM': 'Jamaica', 'MGL': 'Mongolia',\n",
        "    'DOM': 'Dominican Republic', 'CYP': 'Cyprus', 'TOG': 'Togo', 'URU': 'Uruguay', 'EGY': 'Egypt',\n",
        "    'GUI': 'Guinea', 'RWA': 'Rwanda', 'GUA': 'Guatemala', 'HON': 'Honduras', 'ZIM': 'Zimbabwe',\n",
        "    'MKD': 'North Macedonia', 'KEN': 'Kenya', 'SYR': 'Syria', 'CRC': 'Costa Rica'\n",
        "}\n",
        "\n",
        "# Step 3: Convert to DataFrame and map country names\n",
        "df = runners_by_nat.reset_index()\n",
        "df.columns = ['IOC', 'Count']\n",
        "df['Country'] = df['IOC'].map(ioc_to_name)\n",
        "\n",
        "# Step 4: Reorder and display\n",
        "df = df[['Country', 'IOC', 'Count']].sort_values('Count', ascending=False)\n",
        "pd.set_option('display.max_rows', None)  # Show all rows\n",
        "print(df)"
      ],
      "metadata": {
        "colab": {
          "base_uri": "https://localhost:8080/",
          "height": 0
        },
        "id": "UADbMzSz_kC0",
        "outputId": "73118f47-3672-4c78-a611-d7b8c13f0c54"
      },
      "execution_count": 16,
      "outputs": [
        {
          "output_type": "stream",
          "name": "stdout",
          "text": [
            "                    Country  IOC  Count\n",
            "0                Luxembourg  LUX   2611\n",
            "1                    France  FRA   2150\n",
            "2                   Germany  GER   1024\n",
            "3                   Belgium  BEL    773\n",
            "4                     Italy  ITA    321\n",
            "5                     Spain  ESP    245\n",
            "6                  Portugal  POR    197\n",
            "7            United Kingdom  GBR    128\n",
            "8               Netherlands  NED    115\n",
            "9                   Ireland  IRL    101\n",
            "10                   Poland  POL     68\n",
            "11            United States  USA     57\n",
            "12                    India  IND     49\n",
            "13                    China  CHN     48\n",
            "14                   Brazil  BRA     44\n",
            "15                   Greece  GRE     41\n",
            "16                  Romania  ROU     38\n",
            "17              Switzerland  SUI     37\n",
            "18             South Africa  RSA     29\n",
            "19                  Finland  FIN     29\n",
            "20                  Denmark  DEN     28\n",
            "21                   Mexico  MEX     28\n",
            "22                  Hungary  HUN     25\n",
            "23                  Austria  AUT     22\n",
            "24                   Russia  RUS     22\n",
            "25                  Morocco  MAR     19\n",
            "26                 Slovakia  SVK     18\n",
            "27                  Ukraine  UKR     17\n",
            "28                 Bulgaria  BUL     17\n",
            "29                   Sweden  SWE     17\n",
            "30                 Colombia  COL     16\n",
            "31           Czech Republic  CZE     16\n",
            "32                   Norway  NOR     15\n",
            "33              Philippines  PHI     15\n",
            "34                Lithuania  LTU     13\n",
            "35                   Canada  CAN     12\n",
            "36                Australia  AUS     12\n",
            "37                   Turkey  TUR     12\n",
            "38                  Croatia  CRO     11\n",
            "39                Mauritius  MRI     10\n",
            "40                Venezuela  VEN     10\n",
            "41                  Lebanon  LBN      9\n",
            "42                  Albania  ALB      8\n",
            "43                    Japan  JPN      8\n",
            "44                 Slovenia  SLO      8\n",
            "45                  Moldova  MDA      7\n",
            "46                Argentina  ARG      7\n",
            "47                     Peru  PER      6\n",
            "48                   Latvia  LAT      5\n",
            "49                  Iceland  ISL      5\n",
            "50               Montenegro  MNE      5\n",
            "51                  Ecuador  ECU      5\n",
            "52                 Cameroon  CMR      5\n",
            "53                    Chile  CHI      4\n",
            "54           Chinese Taipei  TPE      4\n",
            "55                     Iran  IRI      4\n",
            "56                Hong Kong  HKG      4\n",
            "57                  Algeria  ALG      4\n",
            "58                    Sudan  SDN      3\n",
            "59                 Pakistan  PAK      3\n",
            "60                Indonesia  INA      3\n",
            "61                  Vietnam  VIE      3\n",
            "62                    Malta  MLT      3\n",
            "63                 Malaysia  MAS      3\n",
            "64                  Tunisia  TUN      3\n",
            "65                  Nigeria  NGR      3\n",
            "66                  Georgia  GEO      3\n",
            "67                  Eritrea  ERI      2\n",
            "68               Kazakhstan  KAZ      2\n",
            "69                   Panama  PAN      2\n",
            "70   Bosnia and Herzegovina  BIH      2\n",
            "71               Azerbaijan  AZE      2\n",
            "72              Ivory Coast  CIV      2\n",
            "73                Singapore  SGP      2\n",
            "74                   Serbia  SRB      2\n",
            "75                   Kosovo  XKX      2\n",
            "76                  Estonia  EST      2\n",
            "77                  Armenia  ARM      2\n",
            "78                     Cuba  CUB      1\n",
            "79                   Jordan  JOR      1\n",
            "80              South Korea  KOR      1\n",
            "81                  Belarus  BLR      1\n",
            "82                    Congo  CGO      1\n",
            "83                 Paraguay  PAR      1\n",
            "84                   Bhutan  BHU      1\n",
            "85                  Senegal  SEN      1\n",
            "86                   Belize  BIZ      1\n",
            "87                  Jamaica  JAM      1\n",
            "88                 Mongolia  MGL      1\n",
            "89       Dominican Republic  DOM      1\n",
            "90                   Cyprus  CYP      1\n",
            "91                     Togo  TOG      1\n",
            "92                  Uruguay  URU      1\n",
            "93                    Egypt  EGY      1\n",
            "94                   Guinea  GUI      1\n",
            "95                   Rwanda  RWA      1\n",
            "96                Guatemala  GUA      1\n",
            "97                 Honduras  HON      1\n",
            "98                 Zimbabwe  ZIM      1\n",
            "99          North Macedonia  MKD      1\n",
            "100                   Kenya  KEN      1\n",
            "101                   Syria  SYR      1\n",
            "102              Costa Rica  CRC      1\n"
          ]
        }
      ]
    },
    {
      "cell_type": "code",
      "source": [
        "import matplotlib.pyplot as plt\n",
        "\n",
        "# Recreate and confirm df\n",
        "df = runners_by_nat.reset_index()\n",
        "df.columns = ['IOC', 'Count']\n",
        "df['Country'] = df['IOC'].map(ioc_to_name)\n",
        "df = df[['Country', 'IOC', 'Count']]\n",
        "\n",
        "# Sort and select top 30\n",
        "df_top = df.sort_values('Count', ascending=False).head(30)\n",
        "\n",
        "# Plot horizontal bar chart\n",
        "plt.figure(figsize=(14, 8))\n",
        "plt.barh(df_top['Country'], df_top['Count'])\n",
        "plt.xlabel('Number of Runners')\n",
        "plt.title('Top 30 Countries by Number of Runners')\n",
        "plt.gca().invert_yaxis()\n",
        "plt.tight_layout()\n",
        "plt.show()"
      ],
      "metadata": {
        "colab": {
          "base_uri": "https://localhost:8080/",
          "height": 670
        },
        "id": "X9qKMG4o_kFR",
        "outputId": "6f0b2e33-8408-416c-a4c5-ac8c9bbaf644"
      },
      "execution_count": 17,
      "outputs": [
        {
          "output_type": "display_data",
          "data": {
            "text/plain": [
              "<Figure size 1400x800 with 1 Axes>"
            ],
            "image/png": "[encoded data removed]"
          },
          "metadata": {}
        }
      ]
    },
    {
      "cell_type": "code",
      "source": [
        "import pandas as pd\n",
        "from datetime import time, timedelta\n",
        "\n",
        "# Step 1: Load the Excel file and check the columns\n",
        "df = pd.read_excel(\"ing25.xlsx\")\n",
        "print(df.columns.tolist())  # Run this to see the exact column name\n",
        "\n",
        "# Step 2: Identify the correct Nettime column name\n",
        "# Replace 'Nettime' below with the exact name if different\n",
        "nettime_col = 'Net time'  # <-- change this based on output of the line above\n",
        "\n",
        "# Step 3: Convert to timedelta (handle datetime.time format)\n",
        "def convert_to_timedelta(val):\n",
        "    if isinstance(val, time):\n",
        "        return timedelta(hours=val.hour, minutes=val.minute, seconds=val.second)\n",
        "    return pd.NaT\n",
        "\n",
        "df['Nettime_clean'] = df[nettime_col].apply(convert_to_timedelta)\n",
        "\n",
        "# Step 4: Drop DNS/DNF rows\n",
        "df_valid = df[df['Nettime_clean'].notna()].copy()\n",
        "\n",
        "# Step 5: Group into 5-minute intervals\n",
        "def round_up_to_5_min(td):\n",
        "    total_minutes = td.total_seconds() / 60\n",
        "    rounded_minutes = int((total_minutes + 4) // 5 * 5)\n",
        "    hours = rounded_minutes // 60\n",
        "    minutes = rounded_minutes % 60\n",
        "    return f\"{hours}:{minutes:02d}\"\n",
        "\n",
        "df_valid['Performance Group'] = df_valid['Nettime_clean'].apply(round_up_to_5_min)\n",
        "\n",
        "# Step 6: Count runners in each group\n",
        "performance_df = df_valid['Performance Group'].value_counts().sort_index().reset_index()\n",
        "performance_df.columns = ['Performance Group (hh:mm)', 'Number of Runners']\n",
        "\n",
        "# Show result\n",
        "print(performance_df)\n"
      ],
      "metadata": {
        "colab": {
          "base_uri": "https://localhost:8080/",
          "height": 0
        },
        "id": "mG-DoSWI_kIV",
        "outputId": "a59f825a-7d83-456a-9775-51e42deeb022"
      },
      "execution_count": 19,
      "outputs": [
        {
          "output_type": "stream",
          "name": "stdout",
          "text": [
            "['Place', 'Bib', 'Name', 'NAT', 'Club/Company', 'Group', 'M/W.Pl', 'AG. Pl.', 'Gross time', 'Net time', 'GAP']\n",
            "   Performance Group (hh:mm)  Number of Runners\n",
            "0                       1:05                  1\n",
            "1                       1:10                  1\n",
            "2                       1:15                  8\n",
            "3                       1:20                 26\n",
            "4                       1:25                 67\n",
            "5                       1:30                105\n",
            "6                       1:35                166\n",
            "7                       1:40                309\n",
            "8                       1:45                404\n",
            "9                       1:50                540\n",
            "10                      1:55                609\n",
            "11                      2:00                785\n",
            "12                      2:05                710\n",
            "13                      2:10                738\n",
            "14                      2:15                716\n",
            "15                      2:20                682\n",
            "16                      2:25                611\n",
            "17                      2:30                510\n",
            "18                      2:35                385\n",
            "19                      2:40                310\n",
            "20                      2:45                244\n",
            "21                      2:50                202\n",
            "22                      2:55                144\n",
            "23                      3:00                 90\n",
            "24                      3:05                 39\n",
            "25                      3:10                 43\n",
            "26                      3:15                 23\n",
            "27                      3:20                  7\n",
            "28                      3:25                  3\n",
            "29                      3:50                  1\n"
          ]
        }
      ]
    },
    {
      "cell_type": "code",
      "source": [
        "import matplotlib.pyplot as plt\n",
        "\n",
        "# Plot the bar chart\n",
        "plt.figure(figsize=(12, 6))\n",
        "plt.bar(performance_df['Performance Group (hh:mm)'], performance_df['Number of Runners'])\n",
        "plt.xlabel('Performance Group (hh:mm)')\n",
        "plt.ylabel('Number of Runners')\n",
        "plt.title('Runner Distribution by 5-Minute Nettime Intervals')\n",
        "plt.xticks(rotation=45)\n",
        "plt.grid(axis='y', linestyle='--', alpha=0.7)\n",
        "plt.tight_layout()\n",
        "plt.show()"
      ],
      "metadata": {
        "colab": {
          "base_uri": "https://localhost:8080/",
          "height": 587
        },
        "id": "oSvNS_4xAMAb",
        "outputId": "d530561d-5235-405a-cee9-6523a2fd2b89"
      },
      "execution_count": 20,
      "outputs": [
        {
          "output_type": "display_data",
          "data": {
            "text/plain": [
              "<Figure size 1200x600 with 1 Axes>"
            ],
            "image/png": "[encoded data removed]"
          },
          "metadata": {}
        }
      ]
    },
    {
      "cell_type": "code",
      "source": [
        "import pandas as pd\n",
        "from datetime import timedelta, time\n",
        "\n",
        "# Step 1: Load the Excel file\n",
        "df = pd.read_excel(\"ing25.xlsx\")\n",
        "\n",
        "# Step 2: Convert Nettime (datetime.time) to timedelta\n",
        "def convert_to_timedelta(val):\n",
        "    if isinstance(val, time):\n",
        "        return timedelta(hours=val.hour, minutes=val.minute, seconds=val.second)\n",
        "    return pd.NaT\n",
        "\n",
        "df['Nettime_clean'] = df['Net time'].apply(convert_to_timedelta)\n",
        "\n",
        "# Step 3: Filter rows with valid Nettime\n",
        "df_valid = df[df['Nettime_clean'].notna()].copy()\n",
        "\n",
        "# Step 4: Extract gender from 'M/W.Pl' column\n",
        "df_valid['Gender'] = df_valid['M/W.Pl'].astype(str).str[0]  # Should be 'M' or 'W'\n",
        "\n",
        "# Step 5: Sort by best Nettime (ascending)\n",
        "df_sorted = df_valid.sort_values('Nettime_clean')\n",
        "\n",
        "# Step 6: Get top 20 for each gender\n",
        "top_women = df_sorted[df_sorted['Gender'] == 'W'][['Name', 'NAT', 'Nettime_clean']].head(20)\n",
        "top_men = df_sorted[df_sorted['Gender'] == 'M'][['Name', 'NAT', 'Nettime_clean']].head(20)\n",
        "\n",
        "# Step 7: Print the results\n",
        "print(\"🏃‍♀️ Top 20 Best Performing Women:\")\n",
        "print(top_women)\n",
        "\n",
        "print(\"\\n🏃‍♂️ Top 20 Best Performing Men:\")\n",
        "print(top_men)\n"
      ],
      "metadata": {
        "colab": {
          "base_uri": "https://localhost:8080/",
          "height": 0
        },
        "id": "RNtrL-cyAMOD",
        "outputId": "58930db5-7364-4592-9257-9ecf43e993a4"
      },
      "execution_count": 22,
      "outputs": [
        {
          "output_type": "stream",
          "name": "stdout",
          "text": [
            "🏃‍♀️ Top 20 Best Performing Women:\n",
            "                     Name  NAT   Nettime_clean\n",
            "43           TERESA FRANK  GER 0 days 01:21:50\n",
            "56         MICHELLE TRUMM  GER 0 days 01:22:53\n",
            "77          TINE HAUSMANN  GER 0 days 01:24:16\n",
            "83        TRACEY ATKINSON  GBR 0 days 01:24:59\n",
            "90          YASMINE PAGNI  FRA 0 days 01:25:29\n",
            "99            ANNE REISER  LUX 0 days 01:25:50\n",
            "118  ANASTASIIA LISTOVSKA  UKR 0 days 01:26:46\n",
            "121   CAMILLE BUCCIARELLI  FRA 0 days 01:27:06\n",
            "151      RUNA EGILSDOTTIR  LUX 0 days 01:28:26\n",
            "172         EVA ZASTAWNIK  LUX 0 days 01:29:14\n",
            "179    ANNE-CLAIRE DECKER  LUX 0 days 01:29:37\n",
            "182     CÉLINE TARRILLION  FRA 0 days 01:29:55\n",
            "187          YVONNE ENGEL  GER 0 days 01:30:09\n",
            "221      STEPHANIE PELLER  LUX 0 days 01:31:37\n",
            "228          JEANNE SPIRK  FRA 0 days 01:31:57\n",
            "279        MARINE QUINIOU  FRA 0 days 01:33:26\n",
            "280    ANN-CATHRINE JÜLCH  GER 0 days 01:33:33\n",
            "285        KERSTIN HEINEN  BEL 0 days 01:33:41\n",
            "310     KRISTINA MIKULOVA  SVK 0 days 01:34:25\n",
            "335             LISA RATZ  AUT 0 days 01:34:48\n",
            "\n",
            "🏃‍♂️ Top 20 Best Performing Men:\n",
            "                        Name  NAT   Nettime_clean\n",
            "0             BENJAMIN POLIN  FRA 0 days 01:05:56\n",
            "1                 SIMON BONG  GER 0 days 01:09:52\n",
            "2                  JOAO CRUZ  POR 0 days 01:13:08\n",
            "3               THOMAS IARIA  FRA 0 days 01:13:28\n",
            "4          SÉBASTIEN LAURIER  FRA 0 days 01:13:33\n",
            "5        THANOS MESOCHORITIS  GRE 0 days 01:14:01\n",
            "6       PAUL CHIELLINI-MORGE  FRA 0 days 01:14:13\n",
            "7                DENIS DELON  FRA 0 days 01:15:11\n",
            "8                BALÁZS MARX  HUN 0 days 01:15:24\n",
            "9             QUINN BALLBACH  USA 0 days 01:15:57\n",
            "10  MICHIEL VAN DER BAUWHEDE  BEL 0 days 01:16:02\n",
            "11          ERIC GONDERINGER  LUX 0 days 01:16:27\n",
            "12          RICHARD GUINCHAN  LUX 0 days 01:16:39\n",
            "13             ALAIN LECLUSE  BEL 0 days 01:17:05\n",
            "14              MAXIME JONAS  FRA 0 days 01:17:05\n",
            "15             KÉVIN LAUMOND  FRA 0 days 01:17:17\n",
            "16           ANTHONY PARRICO  FRA 0 days 01:17:41\n",
            "17         VINCENT DEL FORNO  BEL 0 days 01:18:14\n",
            "18             RACHID HABBAZ  FRA 0 days 01:18:20\n",
            "19             MARTI DUCABLE  ESP 0 days 01:18:28\n"
          ]
        }
      ]
    },
    {
      "cell_type": "code",
      "source": [
        "\n",
        "# Step 3: Filter only valid net times and non-empty company names\n",
        "df_valid = df[df['Nettime_clean'].notna()].copy()\n",
        "df_company = df_valid[df_valid['Club/Company'].notna()].copy()\n",
        "\n",
        "# Step 4: Normalize company names\n",
        "def normalize_company_name(name):\n",
        "    name = str(name).strip().upper()\n",
        "    name = unicodedata.normalize('NFKD', name)\n",
        "    name = ''.join(c for c in name if not unicodedata.combining(c))  # Remove accents\n",
        "    name = name.replace('-', ' ').replace('  ', ' ')\n",
        "    return name\n",
        "\n",
        "df_company['Company_Normalized'] = df_company['Club/Company'].apply(normalize_company_name)\n",
        "\n",
        "# Step 5: Group by normalized company name\n",
        "company_stats = df_company.groupby('Company_Normalized').agg(\n",
        "    Runners=('Name', 'count'),\n",
        ").reset_index()\n",
        "\n",
        "\n",
        "# Step 7: Sort by team size\n",
        "company_stats = company_stats.sort_values(by='Runners', ascending=False)\n",
        "\n",
        "# Step 8: Print result\n",
        "print(company_stats.head(30))  # Show top 30 companies\n"
      ],
      "metadata": {
        "colab": {
          "base_uri": "https://localhost:8080/",
          "height": 0
        },
        "id": "aJDGKQhNAgRa",
        "outputId": "eb372a27-4d2b-4e99-8d41-268d8dc1088a"
      },
      "execution_count": 26,
      "outputs": [
        {
          "output_type": "stream",
          "name": "stdout",
          "text": [
            "                          Company_Normalized  Runners\n",
            "678                           PWC LUXEMBOURG      100\n",
            "39                                    AMAZON       95\n",
            "181                                    CGDIS       56\n",
            "443                                     KPMG       53\n",
            "910                      VILLE DE LUXEMBOURG       45\n",
            "457                            LA PROVENCALE       44\n",
            "56                                    ARENDT       38\n",
            "240                                 DELOITTE       35\n",
            "798                             STATE STREET       22\n",
            "460                           LAFCLUB POLICE       22\n",
            "703                         REVANTAGE EUROPE       21\n",
            "649                            PAUL WURTH SA       18\n",
            "792                               SPUERKEESS       16\n",
            "474                          LAUF MIT MARKUS       16\n",
            "185                    CHARLES KIEFFER GROUP       15\n",
            "179                          CERATIZIT GROUP       15\n",
            "55                                ARCUS ASBL       14\n",
            "567                   LUXCARGO HANDLING S.A.       13\n",
            "896  UNIVERSITY OF LUXEMBOURG ALUMNI NETWORK       13\n",
            "338                         FUNVORRUN WITTEN       13\n",
            "563                                   LUXAIR       12\n",
            "219                                      CSC       12\n",
            "134                  BROWN BROTHERS HARRIMAN       12\n",
            "847                    THINK PINK LUXEMBOURG       12\n",
            "90                               AZTEC GROUP       12\n",
            "187   CHINA MERCHANTS BANK LUXEMBOURG BRANCH       11\n",
            "194                           CITABEL SPORTS       11\n",
            "428                                   JETFLY       11\n",
            "775                                 SOCOM SA       11\n",
            "470          LANGHAM HALL LUXEMBOURG S.A R.L       11\n"
          ]
        }
      ]
    },
    {
      "cell_type": "code",
      "source": [
        "import unicodedata\n"
      ],
      "metadata": {
        "id": "Roq-HfpeAzjR"
      },
      "execution_count": 24,
      "outputs": []
    },
    {
      "cell_type": "code",
      "source": [
        "import pandas as pd\n",
        "\n",
        "# 1. Exclude DNS, DNF and ensure all values are strings\n",
        "finished = df[~df['Net time'].str.upper().isin(['DNS', 'DNF'])].copy()\n",
        "finished['Net time'] = finished['Net time'].astype(str).str.strip()\n",
        "\n",
        "# 2. Identify rows that can't be converted\n",
        "def is_valid_time_format(t):\n",
        "    try:\n",
        "        pd.to_timedelta(t)\n",
        "        return True\n",
        "    except:\n",
        "        return False\n",
        "\n",
        "finished['ValidTime'] = finished['Net time'].apply(is_valid_time_format)\n",
        "\n",
        "# 3. Filter only valid times\n",
        "valid_times = finished[finished['ValidTime']].copy()\n",
        "\n",
        "# 4. Convert valid 'Net time' to seconds\n",
        "valid_times['Net time (seconds)'] = pd.to_timedelta(valid_times['Net time']).dt.total_seconds()\n",
        "\n"
      ],
      "metadata": {
        "id": "MDcdy3enBzYd"
      },
      "execution_count": 28,
      "outputs": []
    },
    {
      "cell_type": "code",
      "source": [
        "# Convert the cutoff values (in seconds) back to hh:mm:ss\n",
        "q25_time = pd.to_timedelta(q25, unit='s')\n",
        "q50_time = pd.to_timedelta(q50, unit='s')\n",
        "q75_time = pd.to_timedelta(q75, unit='s')\n",
        "\n",
        "# Print the time thresholds for each quartile\n",
        "print(\"⏱️ Net Time Thresholds for Quartiles:\")\n",
        "print(f\"Top 25%: ≤ {q25_time}\")\n",
        "print(f\"Top 50%: ≤ {q50_time}\")\n",
        "print(f\"Top 75%: ≤ {q75_time}\")\n",
        "print(f\"Bottom 25%: > {q75_time}\")\n",
        "\n",
        "\n",
        "\n",
        "\n"
      ],
      "metadata": {
        "colab": {
          "base_uri": "https://localhost:8080/",
          "height": 0
        },
        "id": "JKHb275rB8aN",
        "outputId": "91eca7e1-f849-4cb3-bedc-3e986470b50d"
      },
      "execution_count": 36,
      "outputs": [
        {
          "output_type": "stream",
          "name": "stdout",
          "text": [
            "⏱️ Net Time Thresholds for Quartiles:\n",
            "Top 25%: ≤ 0 days 01:55:08\n",
            "Top 50%: ≤ 0 days 02:09:15\n",
            "Top 75%: ≤ 0 days 02:24:48\n",
            "Bottom 25%: > 0 days 02:24:48\n"
          ]
        }
      ]
    },
    {
      "cell_type": "code",
      "source": [
        "# Basic descriptive stats in seconds\n",
        "mean_sec = valid_times['Net time (seconds)'].mean()\n",
        "median_sec = valid_times['Net time (seconds)'].median()\n",
        "min_sec = valid_times['Net time (seconds)'].min()\n",
        "max_sec = valid_times['Net time (seconds)'].max()\n",
        "std_sec = valid_times['Net time (seconds)'].std()\n",
        "\n",
        "# Convert all to hh:mm:ss for readability\n",
        "mean_time = pd.to_timedelta(mean_sec, unit='s')\n",
        "median_time = pd.to_timedelta(median_sec, unit='s')\n",
        "min_time = pd.to_timedelta(min_sec, unit='s')\n",
        "max_time = pd.to_timedelta(max_sec, unit='s')\n",
        "std_time = pd.to_timedelta(std_sec, unit='s')\n",
        "\n",
        "# Print results\n",
        "print(\"📊 Net Time Statistics:\")\n",
        "print(f\"Mean - average:   {mean_time} ({mean_sec:.2f} seconds)\")\n",
        "print(f\"Median 50%: {median_time} ({median_sec:.2f} seconds)\")\n",
        "print(f\"Fastest:    {min_time} ({min_sec:.2f} seconds)\")\n",
        "print(f\"Slowest:    {max_time} ({max_sec:.2f} seconds)\")\n",
        "print(f\"Standard deviation:    {std_time} ({std_sec:.2f} seconds)\")\n"
      ],
      "metadata": {
        "colab": {
          "base_uri": "https://localhost:8080/",
          "height": 0
        },
        "id": "l8mYm7ntB8vi",
        "outputId": "9837c587-fdf5-4fef-cec5-6554e1301170"
      },
      "execution_count": 38,
      "outputs": [
        {
          "output_type": "stream",
          "name": "stdout",
          "text": [
            "📊 Net Time Statistics:\n",
            "Mean - average:   0 days 02:10:33.964972284 (7833.96 seconds)\n",
            "Median 50%: 0 days 02:09:15 (7755.00 seconds)\n",
            "Fastest:    0 days 01:05:56 (3956.00 seconds)\n",
            "Slowest:    0 days 03:46:16 (13576.00 seconds)\n",
            "Standard deviation:    0 days 00:21:50.970156754 (1310.97 seconds)\n"
          ]
        }
      ]
    },
    {
      "cell_type": "code",
      "source": [
        "\n",
        "import re\n",
        "\n",
        "# Extract age group like 'M30' or 'W40' from 'AG. Pl.' column\n",
        "def extract_age_group(ag):\n",
        "    if isinstance(ag, str):\n",
        "        match = re.match(r'[MW](\\d+)', ag)\n",
        "        if match:\n",
        "            return int(match.group(1))\n",
        "    return None\n",
        "\n",
        "# Apply to get clean age group as integer\n",
        "valid_times['Age Group'] = valid_times['AG. Pl.'].apply(extract_age_group)\n",
        "\n",
        "# Drop rows where age group couldn't be extracted\n",
        "valid_age_groups = valid_times.dropna(subset=['Age Group'])\n",
        "\n",
        "# Count number of runners by age group (e.g., 20, 30, 40)\n",
        "age_group_counts = valid_age_groups['Age Group'].value_counts().sort_index()\n",
        "\n",
        "# Display summary\n",
        "print(\"📊 Runners by Age Range:\")\n",
        "for age, count in age_group_counts.items():\n",
        "    print(f\"{age}–{age+9}: {count} runners\")\n",
        "import matplotlib.pyplot as plt\n",
        "\n",
        "# Set up age range labels like \"20–29\"\n",
        "age_range_labels = [f\"{age}–{age+9}\" for age in age_group_counts.index]\n",
        "counts = age_group_counts.values\n",
        "\n",
        "# Create the bar chart\n",
        "plt.figure(figsize=(10, 6))\n",
        "plt.bar(age_range_labels, counts)\n",
        "plt.title('🏃 Runners by Age Range')\n",
        "plt.xlabel('Age Range')\n",
        "plt.ylabel('Number of Runners')\n",
        "plt.xticks(rotation=45)\n",
        "plt.grid(axis='y', linestyle='--', alpha=0.7)\n",
        "plt.tight_layout()\n",
        "plt.show()\n",
        "\n"
      ],
      "metadata": {
        "colab": {
          "base_uri": "https://localhost:8080/",
          "height": 919
        },
        "id": "4T7RiF_bB82M",
        "outputId": "f8637e7b-b909-4204-8b88-7171120a4185"
      },
      "execution_count": 44,
      "outputs": [
        {
          "output_type": "stream",
          "name": "stdout",
          "text": [
            "📊 Runners by Age Range:\n",
            "20.0–29.0: 2444 runners\n",
            "30.0–39.0: 1662 runners\n",
            "35.0–44.0: 1264 runners\n",
            "40.0–49.0: 998 runners\n",
            "45.0–54.0: 773 runners\n",
            "50.0–59.0: 590 runners\n",
            "55.0–64.0: 370 runners\n",
            "60.0–69.0: 162 runners\n",
            "65.0–74.0: 74 runners\n",
            "70.0–79.0: 23 runners\n",
            "75.0–84.0: 2 runners\n",
            "80.0–89.0: 1 runners\n",
            "90.0–99.0: 1 runners\n"
          ]
        },
        {
          "output_type": "stream",
          "name": "stderr",
          "text": [
            "<ipython-input-44-011d2e5299cf>:38: UserWarning: Glyph 127939 (\\N{RUNNER}) missing from font(s) DejaVu Sans.\n",
            "  plt.tight_layout()\n",
            "/usr/local/lib/python3.11/dist-packages/IPython/core/pylabtools.py:151: UserWarning: Glyph 127939 (\\N{RUNNER}) missing from font(s) DejaVu Sans.\n",
            "  fig.canvas.print_figure(bytes_io, **kw)\n"
          ]
        },
        {
          "output_type": "display_data",
          "data": {
            "text/plain": [
              "<Figure size 1000x600 with 1 Axes>"
            ],
            "image/png": "[encoded data removed]"
          },
          "metadata": {}
        }
      ]
    },
    {
      "cell_type": "code",
      "source": [
        "# Locate runner(s) with AG. Pl. starting with 'M90'\n",
        "m90_runner = valid_times[valid_times['AG. Pl.'].str.startswith('M90', na=False)]\n",
        "\n",
        "# Display key info\n",
        "print(m90_runner[['Name', 'Bib', 'NAT', 'Club/Company', 'AG. Pl.', 'Net time']])\n",
        "\n"
      ],
      "metadata": {
        "colab": {
          "base_uri": "https://localhost:8080/",
          "height": 0
        },
        "id": "CJi9Wu1SEGiB",
        "outputId": "15388eae-4493-4008-df65-773be88df745"
      },
      "execution_count": 43,
      "outputs": [
        {
          "output_type": "stream",
          "name": "stdout",
          "text": [
            "            Name    Bib  NAT     Club/Company   AG. Pl.  Net time\n",
            "8401  JOSY SIMON  13852  LUX  LG St. Wolfgang  M90 (1.)  03:05:51\n"
          ]
        }
      ]
    },
    {
      "cell_type": "code",
      "source": [
        "!jupyter nbconvert --to pdf --no-input your_notebook.ipynb\n"
      ],
      "metadata": {
        "colab": {
          "base_uri": "https://localhost:8080/",
          "height": 0
        },
        "id": "Vo4X8ZcwFe0n",
        "outputId": "40fa3fba-6095-45b7-a91a-5f540e6ee5c2"
      },
      "execution_count": 45,
      "outputs": [
        {
          "output_type": "stream",
          "name": "stdout",
          "text": [
            "[NbConvertApp] WARNING | pattern 'your_notebook.ipynb' matched no files\n",
            "This application is used to convert notebook files (*.ipynb)\n",
            "        to various other formats.\n",
            "\n",
            "        WARNING: THE COMMANDLINE INTERFACE MAY CHANGE IN FUTURE RELEASES.\n",
            "\n",
            "Options\n",
            "=======\n",
            "The options below are convenience aliases to configurable class-options,\n",
            "as listed in the \"Equivalent to\" description-line of the aliases.\n",
            "To see all configurable class-options for some <cmd>, use:\n",
            "    <cmd> --help-all\n",
            "\n",
            "--debug\n",
            "    set log level to logging.DEBUG (maximize logging output)\n",
            "    Equivalent to: [--Application.log_level=10]\n",
            "--show-config\n",
            "    Show the application's configuration (human-readable format)\n",
            "    Equivalent to: [--Application.show_config=True]\n",
            "--show-config-json\n",
            "    Show the application's configuration (json format)\n",
            "    Equivalent to: [--Application.show_config_json=True]\n",
            "--generate-config\n",
            "    generate default config file\n",
            "    Equivalent to: [--JupyterApp.generate_config=True]\n",
            "-y\n",
            "    Answer yes to any questions instead of prompting.\n",
            "    Equivalent to: [--JupyterApp.answer_yes=True]\n",
            "--execute\n",
            "    Execute the notebook prior to export.\n",
            "    Equivalent to: [--ExecutePreprocessor.enabled=True]\n",
            "--allow-errors\n",
            "    Continue notebook execution even if one of the cells throws an error and include the error message in the cell output (the default behaviour is to abort conversion). This flag is only relevant if '--execute' was specified, too.\n",
            "    Equivalent to: [--ExecutePreprocessor.allow_errors=True]\n",
            "--stdin\n",
            "    read a single notebook file from stdin. Write the resulting notebook with default basename 'notebook.*'\n",
            "    Equivalent to: [--NbConvertApp.from_stdin=True]\n",
            "--stdout\n",
            "    Write notebook output to stdout instead of files.\n",
            "    Equivalent to: [--NbConvertApp.writer_class=StdoutWriter]\n",
            "--inplace\n",
            "    Run nbconvert in place, overwriting the existing notebook (only\n",
            "            relevant when converting to notebook format)\n",
            "    Equivalent to: [--NbConvertApp.use_output_suffix=False --NbConvertApp.export_format=notebook --FilesWriter.build_directory=]\n",
            "--clear-output\n",
            "    Clear output of current file and save in place,\n",
            "            overwriting the existing notebook.\n",
            "    Equivalent to: [--NbConvertApp.use_output_suffix=False --NbConvertApp.export_format=notebook --FilesWriter.build_directory= --ClearOutputPreprocessor.enabled=True]\n",
            "--coalesce-streams\n",
            "    Coalesce consecutive stdout and stderr outputs into one stream (within each cell).\n",
            "    Equivalent to: [--NbConvertApp.use_output_suffix=False --NbConvertApp.export_format=notebook --FilesWriter.build_directory= --CoalesceStreamsPreprocessor.enabled=True]\n",
            "--no-prompt\n",
            "    Exclude input and output prompts from converted document.\n",
            "    Equivalent to: [--TemplateExporter.exclude_input_prompt=True --TemplateExporter.exclude_output_prompt=True]\n",
            "--no-input\n",
            "    Exclude input cells and output prompts from converted document.\n",
            "            This mode is ideal for generating code-free reports.\n",
            "    Equivalent to: [--TemplateExporter.exclude_output_prompt=True --TemplateExporter.exclude_input=True --TemplateExporter.exclude_input_prompt=True]\n",
            "--allow-chromium-download\n",
            "    Whether to allow downloading chromium if no suitable version is found on the system.\n",
            "    Equivalent to: [--WebPDFExporter.allow_chromium_download=True]\n",
            "--disable-chromium-sandbox\n",
            "    Disable chromium security sandbox when converting to PDF..\n",
            "    Equivalent to: [--WebPDFExporter.disable_sandbox=True]\n",
            "--show-input\n",
            "    Shows code input. This flag is only useful for dejavu users.\n",
            "    Equivalent to: [--TemplateExporter.exclude_input=False]\n",
            "--embed-images\n",
            "    Embed the images as base64 dataurls in the output. This flag is only useful for the HTML/WebPDF/Slides exports.\n",
            "    Equivalent to: [--HTMLExporter.embed_images=True]\n",
            "--sanitize-html\n",
            "    Whether the HTML in Markdown cells and cell outputs should be sanitized..\n",
            "    Equivalent to: [--HTMLExporter.sanitize_html=True]\n",
            "--log-level=<Enum>\n",
            "    Set the log level by value or name.\n",
            "    Choices: any of [0, 10, 20, 30, 40, 50, 'DEBUG', 'INFO', 'WARN', 'ERROR', 'CRITICAL']\n",
            "    Default: 30\n",
            "    Equivalent to: [--Application.log_level]\n",
            "--config=<Unicode>\n",
            "    Full path of a config file.\n",
            "    Default: ''\n",
            "    Equivalent to: [--JupyterApp.config_file]\n",
            "--to=<Unicode>\n",
            "    The export format to be used, either one of the built-in formats\n",
            "            ['asciidoc', 'custom', 'html', 'latex', 'markdown', 'notebook', 'pdf', 'python', 'qtpdf', 'qtpng', 'rst', 'script', 'slides', 'webpdf']\n",
            "            or a dotted object name that represents the import path for an\n",
            "            ``Exporter`` class\n",
            "    Default: ''\n",
            "    Equivalent to: [--NbConvertApp.export_format]\n",
            "--template=<Unicode>\n",
            "    Name of the template to use\n",
            "    Default: ''\n",
            "    Equivalent to: [--TemplateExporter.template_name]\n",
            "--template-file=<Unicode>\n",
            "    Name of the template file to use\n",
            "    Default: None\n",
            "    Equivalent to: [--TemplateExporter.template_file]\n",
            "--theme=<Unicode>\n",
            "    Template specific theme(e.g. the name of a JupyterLab CSS theme distributed\n",
            "    as prebuilt extension for the lab template)\n",
            "    Default: 'light'\n",
            "    Equivalent to: [--HTMLExporter.theme]\n",
            "--sanitize_html=<Bool>\n",
            "    Whether the HTML in Markdown cells and cell outputs should be sanitized.This\n",
            "    should be set to True by nbviewer or similar tools.\n",
            "    Default: False\n",
            "    Equivalent to: [--HTMLExporter.sanitize_html]\n",
            "--writer=<DottedObjectName>\n",
            "    Writer class used to write the\n",
            "                                        results of the conversion\n",
            "    Default: 'FilesWriter'\n",
            "    Equivalent to: [--NbConvertApp.writer_class]\n",
            "--post=<DottedOrNone>\n",
            "    PostProcessor class used to write the\n",
            "                                        results of the conversion\n",
            "    Default: ''\n",
            "    Equivalent to: [--NbConvertApp.postprocessor_class]\n",
            "--output=<Unicode>\n",
            "    Overwrite base name use for output files.\n",
            "                Supports pattern replacements '{notebook_name}'.\n",
            "    Default: '{notebook_name}'\n",
            "    Equivalent to: [--NbConvertApp.output_base]\n",
            "--output-dir=<Unicode>\n",
            "    Directory to write output(s) to. Defaults\n",
            "                                  to output to the directory of each notebook. To recover\n",
            "                                  previous default behaviour (outputting to the current\n",
            "                                  working directory) use . as the flag value.\n",
            "    Default: ''\n",
            "    Equivalent to: [--FilesWriter.build_directory]\n",
            "--reveal-prefix=<Unicode>\n",
            "    The URL prefix for reveal.js (version 3.x).\n",
            "            This defaults to the reveal CDN, but can be any url pointing to a copy\n",
            "            of reveal.js.\n",
            "            For speaker notes to work, this must be a relative path to a local\n",
            "            copy of reveal.js: e.g., \"reveal.js\".\n",
            "            If a relative path is given, it must be a subdirectory of the\n",
            "            current directory (from which the server is run).\n",
            "            See the usage documentation\n",
            "            (https://nbconvert.readthedocs.io/en/latest/usage.html#reveal-js-html-slideshow)\n",
            "            for more details.\n",
            "    Default: ''\n",
            "    Equivalent to: [--SlidesExporter.reveal_url_prefix]\n",
            "--nbformat=<Enum>\n",
            "    The nbformat version to write.\n",
            "            Use this to downgrade notebooks.\n",
            "    Choices: any of [1, 2, 3, 4]\n",
            "    Default: 4\n",
            "    Equivalent to: [--NotebookExporter.nbformat_version]\n",
            "\n",
            "Examples\n",
            "--------\n",
            "\n",
            "    The simplest way to use nbconvert is\n",
            "\n",
            "            > jupyter nbconvert mynotebook.ipynb --to html\n",
            "\n",
            "            Options include ['asciidoc', 'custom', 'html', 'latex', 'markdown', 'notebook', 'pdf', 'python', 'qtpdf', 'qtpng', 'rst', 'script', 'slides', 'webpdf'].\n",
            "\n",
            "            > jupyter nbconvert --to latex mynotebook.ipynb\n",
            "\n",
            "            Both HTML and LaTeX support multiple output templates. LaTeX includes\n",
            "            'base', 'article' and 'report'.  HTML includes 'basic', 'lab' and\n",
            "            'classic'. You can specify the flavor of the format used.\n",
            "\n",
            "            > jupyter nbconvert --to html --template lab mynotebook.ipynb\n",
            "\n",
            "            You can also pipe the output to stdout, rather than a file\n",
            "\n",
            "            > jupyter nbconvert mynotebook.ipynb --stdout\n",
            "\n",
            "            PDF is generated via latex\n",
            "\n",
            "            > jupyter nbconvert mynotebook.ipynb --to pdf\n",
            "\n",
            "            You can get (and serve) a Reveal.js-powered slideshow\n",
            "\n",
            "            > jupyter nbconvert myslides.ipynb --to slides --post serve\n",
            "\n",
            "            Multiple notebooks can be given at the command line in a couple of\n",
            "            different ways:\n",
            "\n",
            "            > jupyter nbconvert notebook*.ipynb\n",
            "            > jupyter nbconvert notebook1.ipynb notebook2.ipynb\n",
            "\n",
            "            or you can specify the notebooks list in a config file, containing::\n",
            "\n",
            "                c.NbConvertApp.notebooks = [\"my_notebook.ipynb\"]\n",
            "\n",
            "            > jupyter nbconvert --config mycfg.py\n",
            "\n",
            "To see all available configurables, use `--help-all`.\n",
            "\n"
          ]
        }
      ]
    }
  ]
}
